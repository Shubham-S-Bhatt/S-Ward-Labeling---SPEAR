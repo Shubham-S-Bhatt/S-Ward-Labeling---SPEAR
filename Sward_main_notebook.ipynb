{
  "nbformat": 4,
  "nbformat_minor": 0,
  "metadata": {
    "colab": {
      "name": "BasicAnalysisSWardData_test.ipynb",
      "provenance": [],
      "collapsed_sections": [
        "8kFIJErmsrBU"
      ],
      "toc_visible": true
    },
    "kernelspec": {
      "display_name": "Python 3",
      "language": "python",
      "name": "python3"
    },
    "language_info": {
      "codemirror_mode": {
        "name": "ipython",
        "version": 3
      },
      "file_extension": ".py",
      "mimetype": "text/x-python",
      "name": "python",
      "nbconvert_exporter": "python",
      "pygments_lexer": "ipython3",
      "version": "3.8.5"
    }
  },
  "cells": [
    {
      "cell_type": "markdown",
      "metadata": {
        "id": "Q-1yZytBnHjV"
      },
      "source": [
        "# **Cleaning the Dataset :**\n",
        "\n",
        "\n",
        "A lot of Inconsistency was found when I tried to manually analise the data. Some column's data were interchanged while \n",
        "other columns had false data, which I have cleaned manually.\n",
        "\n",
        "The Date column in new patients data provided was not in correct format. Thus I had to format it manually.\n",
        "\n",
        "In order to have a have a better and stronger dataset, I have cleaned it in the following way:\n",
        "\n"
      ]
    },
    {
      "cell_type": "code",
      "metadata": {
        "id": "qmtWM6GjnHjc"
      },
      "source": [
        "import pandas as pd\n",
        "import numpy as np\n",
        "from datetime import datetime\n",
        "import openpyxl\n",
        "from openpyxl import load_workbook\n",
        "import matplotlib.pyplot as plt\n",
        "from google.colab import drive\n",
        "\n",
        "drive.mount('/content/gdrive')"
      ],
      "execution_count": null,
      "outputs": []
    },
    {
      "cell_type": "code",
      "metadata": {
        "id": "tvuMfCzPnHje"
      },
      "source": [
        "excel_linelist = pd.read_excel(r'/content/gdrive/MyDrive/IITB - INTERNSHIP/Dataset/Provided Data/MASTER_CLOSED_LINELIST_JV.xlsx', sheet_name=None) # Importing the excel sheet\n",
        "combined = pd.concat(excel_linelist.values())     # Combining worksheets\n",
        "# Linelist\n",
        "df_linelist = pd.DataFrame(data=combined)    # Creating pd Dataframe\n",
        "# New Patients list\n",
        "df_linelist2 = pd.read_excel(r'/content/gdrive/MyDrive/IITB - INTERNSHIP/Dataset/Provided Data/new patients list.xlsx', sheet_name='New Patient list') # Importing the excel sheet\n",
        "# JV Contact list\n",
        "df_linelist3 = pd.read_excel(r'/content/gdrive/MyDrive/IITB - INTERNSHIP/Dataset/Provided Data/JV-CONTACT TRACE.xlsx') # Importing the excel sheet\n",
        "\n",
        "# Date in wrong format new patients list\n",
        "for i in range(0,len(df_linelist2)):\n",
        "  x = str(df_linelist2.loc[i]['Date']).split(\".\")\n",
        "  df_linelist2.loc[i,'Date'] = datetime(int(x[2]), int(x[1]), int(x[0]))\n",
        "\n",
        "#combining all df\n",
        "frames = [df_linelist, df_linelist2, df_linelist3]\n",
        "df = pd.concat(frames)\n",
        "df['Date'] = pd.to_datetime(df['Date'])\n",
        "\n",
        "\n",
        "df_ambulance = pd.read_excel(r'/content/gdrive/MyDrive/IITB - INTERNSHIP/Dataset/Provided Data/Ambulance_Report.xlsx') # Importing the excel sheet"
      ],
      "execution_count": null,
      "outputs": []
    },
    {
      "cell_type": "markdown",
      "metadata": {
        "id": "rhYIRVUonHjg"
      },
      "source": [
        "## Data Preprocessing:\n",
        "---\n",
        "1. Dropping/removing duplicate rows.\n",
        "2. Sorting the data according to the date.\n",
        "3. Removing/dropping all empty columns.\n",
        "4. Dropping the unwanted columns:\n",
        "\n",
        "        i.    S No\n",
        "        ii.   Ward -->  As the dataset is from the S ward, we don't need to soecify it and increase the dataset.\n",
        "        iii.  Person / Official from other ward --> This won't help us in determining the death/recovery rate.\n",
        "        iv.   Locality check  \n",
        "        v.    Comments / Remarks\n",
        "        vi.   Remarks from Ward\n",
        "        vii.  Calls check?\n",
        "        viii. Reasons why case is outside CZ, SB\n",
        "        ix.   Action Needed from Ward --> Almost Empty\n",
        "\n",
        "\n",
        "5. Removing 'Home Isolation' in 'DCH / DCHC / CCC2 name' column, as it is not needed there.\n"
      ]
    },
    {
      "cell_type": "code",
      "metadata": {
        "id": "ahxpfzM5nHjh",
        "scrolled": true
      },
      "source": [
        "# Cleaning linelist, New Patients list, JV Contact list\n",
        "df_dup = df.drop_duplicates(subset = 'Test ID (ICMR)')  # dropping the duplicates\n",
        "df_sort = df_dup.sort_values(by=['Age'])   # sorting the complete dataset by the dates\n",
        "df_empt = df_sort.dropna(how='all', axis=1)   # dropping all the empty columns\n",
        "df_new = df_empt.drop(columns = ['S No','Ward','Person / Official from other ward', 'Locality check', 'Comments / Remarks', 'Remarks from Ward','Calls check?', 'Reasons why case is outside CZ, SB', 'Action Needed from Ward', 'Select Symptoms'])\n",
        "#df_new['DCH / DCHC / CCC2 name'].replace('Home Isolation', ' ') # Removing wrong data from column\n",
        "df_new = df_new.reset_index(drop=True)    # Resetting Index\n",
        "\n",
        "\n",
        "for i in range(0,len(df_new)):\n",
        "  if(df_new.loc[i,'DCH / DCHC / CCC2 name'] == \"Home Isolation\"):    # Removing \"Home Isolation\" from 'DCH / DCHC / CCC2 name' and adding it in the column 'Action on Patient' of the same row\n",
        "    df_new.loc[i,'DCH / DCHC / CCC2 name'] = \"NA\"       \n",
        "    df_new.loc[i,'Action on Patient'] = \"Home Isolation\"\n",
        "  if(df_new.loc[i,'Age'] in [0,0.0]):    # Removing people with age=0\n",
        "    df_new = df_new.drop(index=i)\n",
        "\n",
        "df_new = df_new.reset_index(drop=True)    # Resetting Index\n",
        "\n",
        "# Cleaning the 'HealthPost Allocation' column\n",
        "df_new = df_new.replace([\"M\", \"F\", \"Death\", \"DEAD\", \"RECOVERED\", \"ACTIVE\", \"Discharge\", \"Kannamwar Nagar HP\",\"PASSPOLI HP\", \"Paspoli Health Post\", \"Paspoli Village HP\", \"SONAPUR HEALTH POST\", \"SONAPUR HP\", \"Sonapur Health Post\",\\\n",
        "                         \"SUBHASH NAGAR HP\", \"Subhash Nagar Health Post\", \"BHANDUP MATERNITY HP\", \"Bhandup MH HP\", \"Bhandup Maternity Health Post\", \"HIRANANDANI HP\", \"Hiranandani Health Post\", \"ISHWAR NAGAR HP\", \"Ishwar Nagar Rch\" \\\n",
        "                         \"Kanjur Village Health Post\", \"Kanjur Village Hp\", \"KANJUR VILLAGE HP\", \"Kanjurmarg Rch 2\", \"KANJUR RCH\", \"KANNAMWAR NAGAR HP\", \"Kannamwar Health Post\", \"NEGATIVE REPORT\", \"Paspoli Health Post\", \"S\", \"S WARD\",\\\n",
        "                         \"S waRD\", \"Shivaji Talao Health Post\", \"SHIVAJI TALAO HP\", \"STHP\", \"TAEMBHIPADA HP\", \"TEMBHIPADA HP\", \"Tagore Nagar Health Post\", \"Tagore Nagar MH HP\", \"Tagore Nagar HP RCH2\", \"Tembhipada Health Post\", \\\n",
        "                         \"Tembhipada Hp\", \"Transferred\", \"Tulshet Pada Health Post\", \"Tulshetpada Hp\", \"TRANSFER\", \"NO\", \"no\", \"YES\", \"INDEX\", \"contact\", \"AT HOME\", \"At Home Worker\", \"At home\", \"At-home\", \"At-home worker\", \"HOME\", \"Home\",\\\n",
        "                         \"home\", \"Health worker\", \"OTHER\", \"Other essential services\", \"Other Essential Serveices\", \"Retire\", \"SLUM\", \"DEATH AT HOME\", \"Jumbo facility\"], \\\n",
        "                        [\"Male\", \"Female\", \"Dead\", \"Dead\", \"Recovered\", \"Active\", \"Recovered\", \"Kannamwar Health Post\", \"Passpoli Village HP\", \"Passpoli Village HP\", \"Passpoli Village HP\", \"Sonapur HP\", \"Sonapur HP\", \"Sonapur HP\", \\\n",
        "                         \"Subhash Nagar HP\", \"Subhash Nagar HP\", \"Bhandup Maternity HP\",\"Bhandup Maternity HP\",\"Bhandup Maternity HP\", \"Hiranandani HP\",\"Hiranandani HP\", \"Ishwar Nagar HP\", \"Ishwar Nagar HP\", \"Kanjur HP\", \"Kanjur HP\",\\\n",
        "                         \"Kanjur HP\" , \"Kanjurmarg Rch-II HP\", \"Kanjur Rch\", \"Kannamwar HP\", \"Kannamwar HP\", \"\",\"Passpoli Village HP\", \"S Ward\", \"S Ward\", \"S Ward\", \"Shivaji Talao HP\", \"Shivaji Talao HP\", \"Shivaji Talao HP\"\\\n",
        "                         \"Tembhipada HP\", \"Tembhipada HP\", \"Tagore Nagar HP\", \"Tagore Nagar HP\", \"Tagore Nagar Rch 2\", \"Tembhipada HP\", \"Tembhipada HP\",\"\", \"Tulshetpada HP\", \"Tulshetpada HP\", \"\", \"No\", \"No\", \"Yes\", \"Index\", \"Contact\", \"At Home\", \\\n",
        "                         \"At Home\", \"At Home\", \"At Home\", \"At Home\", \"At Home\", \"At Home\", \"At Home\", \"Health Worker\", \"Other\", \"Other Essential Services\", \"Other Essential Services\", \"Retired\", \"Slum / Chawl\", \"Death At Home\",\\\n",
        "                         \"Jumbo Facility\"])\n",
        "\n",
        "df_new"
      ],
      "execution_count": null,
      "outputs": []
    },
    {
      "cell_type": "code",
      "metadata": {
        "id": "Tx49qvBRnHjm"
      },
      "source": [
        "# For saving seperate sheets in one workbook\n",
        "path = (r'/content/gdrive/MyDrive/IITB - INTERNSHIP/Dataset/Preprocessing_data/Cleaned_Dataset/Combined_linelist_data.xlsx')\n",
        "df_new.to_excel(path, sheet_name = 'Combined_linelist')\n",
        "wb = openpyxl.load_workbook(path)\n",
        "writer = pd.ExcelWriter(path, engine = 'openpyxl')\n",
        "writer.book = wb"
      ],
      "execution_count": null,
      "outputs": []
    },
    {
      "cell_type": "markdown",
      "metadata": {
        "id": "dDmyH9brnHjn"
      },
      "source": [
        "## Some Analysis for Creating the Labelling functions"
      ]
    },
    {
      "cell_type": "markdown",
      "metadata": {
        "id": "hTcdyH90nHjo"
      },
      "source": [
        "###1. *Creating Workbook with only Recovered Patient's details and worksheets with different analysis*\n"
      ]
    },
    {
      "cell_type": "code",
      "metadata": {
        "id": "UmCcguoZnHjq"
      },
      "source": [
        "df_recov = df_new.loc[df_new['Patient Status'] == 'Recovered'] # selecting the patients recovered\n",
        "df_recov = df_recov.reset_index(drop=True)\n",
        "\n",
        "recov_path = (r'/content/gdrive/MyDrive/IITB - INTERNSHIP/Dataset/Preprocessing_data/Cleaned_Dataset/Recovered_linelist_data.xlsx')\n",
        "df_recov.to_excel(recov_path, sheet_name = 'Recovered_linelist')\n",
        "wb_recov = openpyxl.load_workbook(recov_path)\n",
        "writer_recov = pd.ExcelWriter(recov_path, engine = 'openpyxl')\n",
        "writer_recov.book = wb_recov"
      ],
      "execution_count": null,
      "outputs": []
    },
    {
      "cell_type": "code",
      "metadata": {
        "id": "tNIR08pfnHjr"
      },
      "source": [
        "# Sorting according to Age\n",
        "df_recov_age = df_recov.sort_values(by=['Age'])\n",
        "df_recov_age.to_excel(writer_recov, sheet_name = 'Recovered_(sort-Age)_linelist')\n",
        "\n",
        "# Sorting according to Gender\n",
        "df_recov_gender = df_recov.sort_values(by=['Gender'])\n",
        "df_recov_gender.to_excel(writer_recov, sheet_name = 'Recovered_(sort-gender)_linelist')\n",
        "\n",
        "# Sorting according to Traceable\n",
        "df_recov_traceable = df_recov.sort_values(by=['Traceable?'])\n",
        "df_recov_traceable.to_excel(writer_recov, sheet_name = 'Recovered_(sort-tracable)_linelist')\n",
        "\n",
        "# Sorting according to Out of Mumbai (Yes / No)\n",
        "df_recov_mumbai = df_recov.sort_values(by=['Out of Mumbai (Yes / No)'])\n",
        "df_recov_mumbai.to_excel(writer_recov, sheet_name = 'Recovered_(sort-Out_of_Mumbai)_linelist')\n",
        "\n",
        "# Sorting according to Patient Type (Index / Contact)\n",
        "df_recov_type = df_recov.sort_values(by=['Patient Type (Index / Contact)'])\n",
        "df_recov_type.to_excel(writer_recov, sheet_name = 'Recovered_(sort-Patient_Type)_linelist')\n"
      ],
      "execution_count": null,
      "outputs": []
    },
    {
      "cell_type": "markdown",
      "metadata": {
        "id": "uQoFmTcBnHjs"
      },
      "source": [
        "### 2. Creating Workbook with only Dead Patient's details and worksheets with different analysis"
      ]
    },
    {
      "cell_type": "code",
      "metadata": {
        "id": "ivCLuGwpnHjs"
      },
      "source": [
        "df_dead = df_new.loc[df_new['Patient Status'] == 'Dead'] # selecting the patients Dead\n",
        "df_dead = df_dead.reset_index(drop=True)\n",
        "\n",
        "dead_path = (r'/content/gdrive/MyDrive/IITB - INTERNSHIP/Dataset/Preprocessing_data/Cleaned_Dataset/Dead_linelist_data.xlsx')\n",
        "df_dead.to_excel(dead_path, sheet_name = 'dead_linelist')\n",
        "wb_dead = openpyxl.load_workbook(dead_path)\n",
        "writer_dead = pd.ExcelWriter(dead_path, engine = 'openpyxl')\n",
        "writer_dead.book = wb_dead"
      ],
      "execution_count": null,
      "outputs": []
    },
    {
      "cell_type": "code",
      "metadata": {
        "id": "YAKkVhu-nHjt"
      },
      "source": [
        "# Sorting according to Age\n",
        "df_dead_age = df_dead.sort_values(by=['Age'])\n",
        "df_dead_age.to_excel(writer_dead, sheet_name = 'Dead_(sort-age)_linelist')\n",
        "\n",
        "# Sorting according to Gender\n",
        "df_dead_gender = df_dead.sort_values(by=['Gender'])\n",
        "df_dead_gender.to_excel(writer_dead, sheet_name = 'Dead_(sort-gender)_linelist')\n",
        "\n",
        "# Sorting according to Traceable\n",
        "df_dead_traceable = df_dead.sort_values(by=['Traceable?'])\n",
        "df_dead_traceable.to_excel(writer_dead, sheet_name = 'Dead_(sort-tracable)_linelist')\n",
        "\n",
        "# Sorting according to Out of Mumbai (Yes / No)\n",
        "df_dead_mumbai = df_dead.sort_values(by=['Out of Mumbai (Yes / No)'])\n",
        "df_dead_mumbai.to_excel(writer_dead, sheet_name = 'Dead_(sort-Out_of_Mumbai)_linelist')\n",
        "\n",
        "# Sorting according to Patient Type (Index / Contact)\n",
        "df_dead_type = df_dead.sort_values(by=['Patient Type (Index / Contact)'])\n",
        "df_dead_type.to_excel(writer_dead, sheet_name = 'Dead_(sort-Patient_Type)_linelist')"
      ],
      "execution_count": null,
      "outputs": []
    },
    {
      "cell_type": "markdown",
      "metadata": {
        "id": "sv6b35krnHju"
      },
      "source": [
        "### 3. Creating Workbook with only Patient's details who are actively inffected with Covid-19 and worksheets with different analysis"
      ]
    },
    {
      "cell_type": "code",
      "metadata": {
        "id": "QaUtAqTRnHjv"
      },
      "source": [
        "# Creating sheet with only Patient's details who are actively inffected with Covid-19\n",
        "\n",
        "df_active = df_new.loc[df_new['Patient Status'] == 'Active'] # selecting the patients with Active case\n",
        "df_active = df_active.reset_index(drop=True)\n",
        "\n",
        "active_path = (r'/content/gdrive/MyDrive/IITB - INTERNSHIP/Dataset/Preprocessing_data/Cleaned_Dataset/Active_linelist_data.xlsx')\n",
        "df_active.to_excel(active_path, sheet_name = 'Active_linelist')\n",
        "wb_active = openpyxl.load_workbook(active_path)\n",
        "writer_active = pd.ExcelWriter(active_path, engine = 'openpyxl')\n",
        "writer_active.book = wb_active"
      ],
      "execution_count": null,
      "outputs": []
    },
    {
      "cell_type": "code",
      "metadata": {
        "id": "D4r9xJxpnHjw"
      },
      "source": [
        "# Sorting according to Age\n",
        "df_active_age = df_active.sort_values(by=['Age'])\n",
        "df_active_age.to_excel(writer_active, sheet_name = 'Active_(sort-Age)_linelist')\n",
        "\n",
        "# Sorting according to Gender\n",
        "df_active_gender = df_active.sort_values(by=['Gender'])\n",
        "df_active_gender.to_excel(writer_active, sheet_name = 'Active_(sort-gender)_linelist')\n",
        "\n",
        "# Sorting according to Traceable\n",
        "df_active_traceable = df_active.sort_values(by=['Traceable?'])\n",
        "df_active_traceable.to_excel(writer_active, sheet_name = 'Active_(sort-tracable)_linelist')\n",
        "\n",
        "# Sorting according to Out of Mumbai (Yes / No)\n",
        "df_active_mumbai = df_active.sort_values(by=['Out of Mumbai (Yes / No)'])\n",
        "df_active_mumbai.to_excel(writer_active, sheet_name = 'Active_(sort-Out_of_Mumbai)_linelist')\n",
        "\n",
        "# Sorting according to Patient Type (Index / Contact)\n",
        "df_active_type = df_active.sort_values(by=['Patient Type (Index / Contact)'])\n",
        "df_active_type.to_excel(writer_active, sheet_name = 'Active_(sort-Patient_Type)_linelist')"
      ],
      "execution_count": null,
      "outputs": []
    },
    {
      "cell_type": "code",
      "metadata": {
        "id": "XkTpWd04nHjx"
      },
      "source": [
        "writer.save()\n",
        "writer.close()"
      ],
      "execution_count": null,
      "outputs": []
    },
    {
      "cell_type": "code",
      "metadata": {
        "id": "NxS9Cw2CnHjx",
        "scrolled": true
      },
      "source": [
        "writer_recov.save()\n",
        "writer_recov.close()"
      ],
      "execution_count": null,
      "outputs": []
    },
    {
      "cell_type": "code",
      "metadata": {
        "id": "FEQhhAQPnHjx"
      },
      "source": [
        "writer_dead.save()\n",
        "writer_dead.close()"
      ],
      "execution_count": null,
      "outputs": []
    },
    {
      "cell_type": "code",
      "metadata": {
        "id": "DTnAdT6enHjy"
      },
      "source": [
        "writer_active.save()\n",
        "writer_active.close()"
      ],
      "execution_count": null,
      "outputs": []
    },
    {
      "cell_type": "markdown",
      "metadata": {
        "id": "fu2DFy-2nHjy"
      },
      "source": [
        "### *Some Plottings*\n",
        "\n",
        "\n"
      ]
    },
    {
      "cell_type": "code",
      "metadata": {
        "id": "8wQuha1_nHjy",
        "scrolled": true
      },
      "source": [
        "df_new['Age'].plot.box()\n",
        "plt.title(\"Box Diagram - Distribution of Data according to Age\")\n",
        "plt.ylabel(\"Frequency\")\n",
        "plt.show()"
      ],
      "execution_count": null,
      "outputs": []
    },
    {
      "cell_type": "code",
      "metadata": {
        "id": "tSS887qbnHj0"
      },
      "source": [
        "df_new.groupby('Gender')['Gender'].count().plot.pie(autopct='%.2f',figsize=(8,8),  subplots=True, labeldistance=None, legend=True, pctdistance = 0.9) # on complete dataset\n",
        "plt.title(\"Distribution of data According to Gender\")\n",
        "plt.legend(loc=\"upper right\")\n",
        "plt.xlabel(\"\")\n",
        "plt.ylabel(\"\")\n",
        "plt.show()"
      ],
      "execution_count": null,
      "outputs": []
    },
    {
      "cell_type": "code",
      "metadata": {
        "id": "R9oXWn7MnHj1"
      },
      "source": [
        "df_new.groupby('Patient Status')['Patient Status'].count().plot.pie(autopct='%.3f',figsize=(10,10),  subplots=True, labeldistance=None, legend=True, pctdistance = 0.9) # on recover dataset\n",
        "plt.title(\"Distribution of Data According to Patient Status\")\n",
        "plt.xlabel(\"\")\n",
        "plt.ylabel(\"\")\n",
        "plt.legend(loc=\"upper right\")\n",
        "plt.show()"
      ],
      "execution_count": null,
      "outputs": []
    },
    {
      "cell_type": "code",
      "metadata": {
        "id": "4G4ujyj_nHj3"
      },
      "source": [
        "df_active['Age'].plot.hist(label='Áctive', color='green', bins=50, alpha=0.5, figsize=(8,8))\n",
        "plt.title(\"Histogram - Active cases analysis according to Age\")\n",
        "plt.xlabel(\"Age\")\n",
        "plt.ylabel(\"Frequency\")\n",
        "plt.legend(loc=\"upper right\")\n",
        "plt.show()"
      ],
      "execution_count": null,
      "outputs": []
    },
    {
      "cell_type": "code",
      "metadata": {
        "id": "izDo8Kx3nHj2"
      },
      "source": [
        "df_dead['Age'].plot.hist(label='Dead', color='red', bins=50, alpha=0.5, figsize=(8,8))\n",
        "plt.title(\"Histogram - Dead cases analysis according to Age\")\n",
        "plt.xlabel(\"Age\")\n",
        "plt.ylabel(\"Frequency\")\n",
        "plt.legend(loc=\"upper right\")\n",
        "plt.show()"
      ],
      "execution_count": null,
      "outputs": []
    },
    {
      "cell_type": "code",
      "metadata": {
        "id": "9QJl9D14nHj4"
      },
      "source": [
        "df_recov['Age'].plot.hist(label='Recovered', color='yellow', bins=50, alpha=0.3, figsize=(8,8))\n",
        "plt.title(\"Histogram - Recovered cases analysis according to Age\")\n",
        "plt.xlabel(\"Age\")\n",
        "plt.ylabel(\"Frequency\")\n",
        "plt.legend(loc=\"upper right\")\n",
        "plt.show()"
      ],
      "execution_count": null,
      "outputs": []
    },
    {
      "cell_type": "code",
      "metadata": {
        "id": "FkQ7LIsqnHj6",
        "scrolled": true
      },
      "source": [
        "df_active['Age'].plot.hist(label='Áctive',color='green', bins=50, alpha=0.5, figsize=(8,8))\n",
        "df_dead['Age'].plot.hist(label='Dead',color='red', bins=50, alpha=0.5, figsize=(8,8))\n",
        "df_recov['Age'].plot.hist(label='Recovered',color='yellow', bins=50, alpha=0.3, figsize=(8,8))\n",
        "plt.title(\"Histogram - Dead, Active, Recovered cases analysis according to Age\")\n",
        "plt.xlabel(\"Age\")\n",
        "plt.ylabel(\"Frequency\")\n",
        "plt.legend(loc=\"upper right\")\n",
        "plt.show()"
      ],
      "execution_count": null,
      "outputs": []
    },
    {
      "cell_type": "code",
      "metadata": {
        "id": "o5VJqD6dQ854"
      },
      "source": [
        "df_dead.groupby('Is patient vaccinated')['Is patient vaccinated'].count().plot.pie(autopct='%.3f',figsize=(10,10), subplots=True, labeldistance=None, legend=True, pctdistance = 0.9) # on recover dataset\n",
        "plt.title(\"Were patients vaccinated before Dying?\")\n",
        "plt.xlabel(\"\")\n",
        "plt.ylabel(\"\")\n",
        "plt.legend(loc=\"upper right\")\n",
        "plt.show()\n"
      ],
      "execution_count": null,
      "outputs": []
    },
    {
      "cell_type": "code",
      "metadata": {
        "id": "YxISck2nUDpf"
      },
      "source": [
        "df_dead.groupby('2nd Dose')['2nd Dose'].count().plot.pie(autopct='%.2f',figsize=(10,10), subplots=True, labeldistance=None, legend=True, pctdistance = 0.9) # on recover dataset\n",
        "plt.title(\"Dead Covid-19 Patients - 2nd Vaccine Dose?\")\n",
        "\n",
        "plt.axis('equal')\n",
        "plt.xlabel(\"\")\n",
        "plt.ylabel(\"\")\n",
        "plt.legend(loc=\"upper right\")\n",
        "plt.show()"
      ],
      "execution_count": null,
      "outputs": []
    },
    {
      "cell_type": "code",
      "metadata": {
        "id": "DZXhDjfHWFsB"
      },
      "source": [
        "df_dead.groupby('Out of Mumbai (Yes / No)')['Out of Mumbai (Yes / No)'].count().plot.pie(autopct='%.3f',figsize=(10,10), subplots=True, legend=True, pctdistance = 0.9) # on recover dataset\n",
        "plt.title(\"Dead patients - Out of Mumbai?\")\n",
        "plt.axis('equal')\n",
        "plt.xlabel(\"\")\n",
        "plt.ylabel(\"\")\n",
        "plt.legend(loc=\"upper right\")\n",
        "plt.show()"
      ],
      "execution_count": null,
      "outputs": []
    },
    {
      "cell_type": "code",
      "metadata": {
        "id": "HTRsx8oPWndP"
      },
      "source": [
        "df_dead.groupby('Select Comorbidities')['Select Comorbidities'].count().plot.pie(autopct='%.3f',figsize=(20,20),pctdistance=0.8) # on recover dataset\n",
        "plt.title(\"Dead patients - Out of Mumbai?\")\n",
        "plt.xlabel(\"\")\n",
        "plt.ylabel(\"\")\n",
        "plt.legend(loc=\"upper right\")\n",
        "plt.show()\n"
      ],
      "execution_count": null,
      "outputs": []
    },
    {
      "cell_type": "code",
      "metadata": {
        "id": "1dbOgw5TSj9L"
      },
      "source": [
        "df_dead.groupby('Patient Type (Index / Contact)')['Patient Type (Index / Contact)'].count().plot.pie(autopct='%.3f',figsize=(10,10), subplots=True, legend=True, pctdistance = 0.9) # on recover dataset\n",
        "plt.title(\"Dead patients - Patient Type?\")\n",
        "plt.axis('equal')\n",
        "plt.xlabel(\"\")\n",
        "plt.ylabel(\"\")\n",
        "plt.legend(loc=\"upper right\")\n",
        "plt.show()"
      ],
      "execution_count": null,
      "outputs": []
    },
    {
      "cell_type": "code",
      "metadata": {
        "id": "nOa8bo48Xrqh"
      },
      "source": [
        "df_dead.groupby('Symptomatic?')['Symptomatic?'].count().plot.pie(autopct='%.3f',figsize=(10,10), subplots=True, legend=True, pctdistance = 0.9) # on recover dataset\n",
        "plt.title(\"Dead patients - Symptomatic?\")\n",
        "plt.axis('equal')\n",
        "plt.xlabel(\"\")\n",
        "plt.ylabel(\"\")\n",
        "plt.legend(loc=\"upper right\")\n",
        "plt.show()"
      ],
      "execution_count": null,
      "outputs": []
    },
    {
      "cell_type": "code",
      "metadata": {
        "id": "kLzFiwLVYHTt"
      },
      "source": [
        "df_dead.groupby('Occupation')['Occupation'].count().plot.pie(autopct='%.3f',figsize=(40,40), subplots=True, legend=True, pctdistance = 0.9) # on recover dataset\n",
        "plt.title(\"Dead patients - Occupation?\")\n",
        "plt.axis('equal')\n",
        "plt.xlabel(\"\")\n",
        "plt.ylabel(\"\")\n",
        "plt.legend(loc=\"upper right\")\n",
        "plt.show()"
      ],
      "execution_count": null,
      "outputs": []
    },
    {
      "cell_type": "code",
      "metadata": {
        "id": "xayppw0hgbjU"
      },
      "source": [
        "df_dead.groupby('If Patient is from Essential services, Private or Public Servic')['If Patient is from Essential services, Private or Public Servic'].count().plot.pie(autopct='%.3f',figsize=(10,10), subplots=True, legend=True, pctdistance = 0.9) # on recover dataset\n",
        "plt.title(\"Dead patients - Essential Services?\")\n",
        "plt.axis('equal')\n",
        "plt.xlabel(\"\")\n",
        "plt.ylabel(\"\")\n",
        "plt.legend(loc=\"upper right\")\n",
        "plt.show()"
      ],
      "execution_count": null,
      "outputs": []
    },
    {
      "cell_type": "code",
      "metadata": {
        "id": "tllAhUgKh2KY"
      },
      "source": [
        "df_dead.groupby('Patient is from SB (sealed building)')['Patient is from SB (sealed building)'].count().plot.pie(autopct='%.3f',figsize=(10,10), subplots=True, legend=True, pctdistance = 0.9) # on recover dataset\n",
        "plt.title(\"Dead patients - Sealed Building?\")\n",
        "plt.axis('equal')\n",
        "plt.xlabel(\"\")\n",
        "plt.ylabel(\"\")\n",
        "plt.legend(loc=\"upper right\")\n",
        "plt.show()"
      ],
      "execution_count": null,
      "outputs": []
    },
    {
      "cell_type": "code",
      "metadata": {
        "id": "d6BOe22FjG7z"
      },
      "source": [
        "df_dead.groupby('Patient is from CZ (containment zone)')['Patient is from CZ (containment zone)'].count().plot.pie(autopct='%.3f',figsize=(10,10), subplots=True, legend=True, pctdistance = 0.9) # on recover dataset\n",
        "plt.title(\"Dead patients - Containment Zone?\")\n",
        "plt.axis('equal')\n",
        "plt.xlabel(\"\")\n",
        "plt.ylabel(\"\")\n",
        "plt.legend(loc=\"upper right\")\n",
        "plt.show()"
      ],
      "execution_count": null,
      "outputs": []
    },
    {
      "cell_type": "code",
      "metadata": {
        "id": "PEhEgS3XQQ_E"
      },
      "source": [
        "df_new.groupby('Patient is from CZ (containment zone)')['Patient is from CZ (containment zone)'].count().plot.pie(autopct='%.3f',figsize=(10,10), subplots=True, legend=True, pctdistance = 0.9) # on recover dataset\n",
        "plt.title(\"Dead patients - Containment Zone?\")\n",
        "plt.axis('equal')\n",
        "plt.xlabel(\"\")\n",
        "plt.ylabel(\"\")\n",
        "plt.legend(loc=\"upper right\")\n",
        "plt.show()"
      ],
      "execution_count": null,
      "outputs": []
    },
    {
      "cell_type": "code",
      "metadata": {
        "id": "NNg6NtP-kRA9"
      },
      "source": [
        "df_dead.groupby('Patient Location')['Patient Location'].count().plot.pie(autopct='%.3f',figsize=(10,10), subplots=True, legend=True, pctdistance = 0.9) # on recover dataset\n",
        "plt.title(\"Dead patients - Containment Zone?\")\n",
        "plt.axis('equal')\n",
        "plt.xlabel(\"\")\n",
        "plt.ylabel(\"\")\n",
        "plt.legend(loc=\"upper right\")\n",
        "plt.show()"
      ],
      "execution_count": null,
      "outputs": []
    },
    {
      "cell_type": "code",
      "metadata": {
        "id": "r9hFehQ3rkz5"
      },
      "source": [
        "df_dead.groupby('Action on Patient')['Action on Patient'].count().plot.pie(autopct='%.3f',figsize=(10,10), subplots=True, legend=True, pctdistance = 0.9) # on recover dataset\n",
        "plt.title(\"Dead patients - Action on Patients\")\n",
        "plt.axis('equal')\n",
        "plt.xlabel(\"\")\n",
        "plt.ylabel(\"\")\n",
        "plt.legend(loc=\"upper right\")\n",
        "plt.show()"
      ],
      "execution_count": null,
      "outputs": []
    },
    {
      "cell_type": "code",
      "metadata": {
        "id": "CCh3FhzgybEU"
      },
      "source": [
        "df_dead['Total Number of High Risk Contacts'].plot.hist(label='High Risk Contact',color='red', bins=50, alpha=0.5, figsize=(8,8))\n",
        "plt.title(\"Histogram - Dead Covid-19 Patients - High risk contacts\")\n",
        "plt.xlabel(\"High Risk Contact Counts\")\n",
        "plt.ylabel(\"Frequency\")\n",
        "plt.legend(loc=\"upper right\")\n",
        "plt.show()"
      ],
      "execution_count": null,
      "outputs": []
    },
    {
      "cell_type": "code",
      "metadata": {
        "id": "RWGRhymW0ul8"
      },
      "source": [
        "df_new.groupby('False Positive Case')['False Positive Case'].count().plot.pie(autopct='%.3f',figsize=(10,10), subplots=True, legend=True, pctdistance = 0.9) # on recover dataset\n",
        "plt.title(\"False Positive Case\")\n",
        "plt.axis('equal')\n",
        "plt.xlabel(\"\")\n",
        "plt.ylabel(\"\")\n",
        "plt.legend(loc=\"upper right\")\n",
        "plt.show()"
      ],
      "execution_count": null,
      "outputs": []
    },
    {
      "cell_type": "code",
      "metadata": {
        "id": "_PXdmWOrTE8r"
      },
      "source": [
        "df_dead"
      ],
      "execution_count": null,
      "outputs": []
    },
    {
      "cell_type": "code",
      "metadata": {
        "id": "kBX0tuRbnHj8",
        "scrolled": false
      },
      "source": [
        "df_new.plot(x='Traceable?' ,y='Age',figsize=(50,5))"
      ],
      "execution_count": null,
      "outputs": []
    },
    {
      "cell_type": "markdown",
      "metadata": {
        "id": "70luXD1E49NK"
      },
      "source": [
        "#**LABELING FUNCTIONS**"
      ]
    },
    {
      "cell_type": "code",
      "metadata": {
        "id": "jvEqZ1nLnHj9"
      },
      "source": [
        "import re\n",
        "!git clone https://github.com/decile-team/spear.git\n",
        "%cd spear"
      ],
      "execution_count": null,
      "outputs": []
    },
    {
      "cell_type": "markdown",
      "metadata": {
        "id": "yvb51XBS32Vv"
      },
      "source": [
        "##REGULAR EXPRESSIONS"
      ]
    },
    {
      "cell_type": "code",
      "metadata": {
        "id": "AjdY_mranHj-"
      },
      "source": [
        "Comorbidities = r'\\bDiabetes Mellitus\\b|\\bHypertension\\b|\\bChronic Lung Diseases\\b|\\bChronic Kidney Disease\\b|\\bIschemic Heart Diseases\\b|\\bChronic Kidney Disease\\b'"
      ],
      "execution_count": null,
      "outputs": []
    },
    {
      "cell_type": "markdown",
      "metadata": {
        "id": "8zK9Gkve4wqQ"
      },
      "source": [
        "##LABELING FUNCTIONS\n",
        " \n",
        "\n",
        "> 1 - Recover \\\n",
        "> 0 - Active \\\n",
        "> -1 - Death\n"
      ]
    },
    {
      "cell_type": "markdown",
      "metadata": {
        "id": "Mxcsze5rscj3"
      },
      "source": [
        "### LFs - with Dictonary"
      ]
    },
    {
      "cell_type": "code",
      "metadata": {
        "id": "-zmAIdMJiHtT"
      },
      "source": [
        "from spear.labeling import preprocessor\n",
        "\n",
        "@preprocessor()\n",
        "def create_dict(x):\n",
        "    zip_iter = zip(col_names, x)\n",
        "    return dict(zip_iter)"
      ],
      "execution_count": null,
      "outputs": []
    },
    {
      "cell_type": "code",
      "metadata": {
        "id": "tSK3obWAqgLX"
      },
      "source": [
        "import enum\n",
        "\n",
        "class Labels(enum.Enum):\n",
        "    recovered = 1\n",
        "    active = 0\n",
        "    dead = -1"
      ],
      "execution_count": null,
      "outputs": []
    },
    {
      "cell_type": "code",
      "metadata": {
        "id": "uRIWfmVzZiDY"
      },
      "source": [
        "from spear.labeling import labeling_function, ABSTAIN\n",
        "\n",
        "# Labeling Function 1 ---> Vaccinated and no comorbidity\n",
        "@labeling_function(pre=[create_dict], label=Labels.recovered)\n",
        "def lf_vaccinated(x,**kwargs):\n",
        "  if (x['Is patient vaccinated']==\"Yes\" and x['Comorbidity']==\"No\"):    \n",
        "      return Labels.recovered \n",
        "  return ABSTAIN\n",
        "\n",
        "\n",
        "# Labeling Function 2 ---> Old Age, Comorbidity and symptomatic\n",
        "@labeling_function(pre=[create_dict], label=Labels.dead)\n",
        "def lf_old_symptomatic(x,**kwargs):\n",
        "  if (x['Age']>60 and x['Comorbidity'] == \"Yes\" and x['Symptomatic?'] == \"Yes\"):    \n",
        "      return Labels.dead\n",
        "  return ABSTAIN\n",
        "\n",
        "\n",
        "# Labeling Function 3 ---> symptomatic and from containment zone or sealed building\n",
        "@labeling_function(pre=[create_dict], label=Labels.recovered)\n",
        "def lf_symptomatic_cz_sb(x,**kwargs):\n",
        "  if (x['Symptomatic?'] == \"Yes\" and (x['Patient is from CZ (containment zone)'] == \"Yes\" or x['Patient is from SB (sealed building)'] == \"Yes\")):    \n",
        "      return Labels.recovered\n",
        "  return ABSTAIN\n",
        "\n",
        "\n",
        "# Labeling Function 4 ---> slum or chawl and comorbidity and symptomatic\n",
        "@labeling_function(pre=[create_dict], label=Labels.dead)\n",
        "def lf_slum_or_chawl_commorbidities(x,**kwargs):\n",
        "  if ((x['Patient Location']==\"Slum / Chawl\" or x['Patient Location']=='Slum' or x['Patient Location']=='Chawl') and x['Comorbidity'] == \"Yes\" and x['Symptomatic?'] == \"Yes\"):\n",
        "      return Labels.dead\n",
        "  return ABSTAIN\n",
        "\n",
        "\n",
        "\n",
        "# Labeling Function 5 ---> 'Action on Patient' is Home Isolation and Symptomatic= 'No'\n",
        "@labeling_function(pre=[create_dict], label=Labels.recovered)\n",
        "def lf_home_isolated(x,**kwargs):\n",
        "  if (x['Action on Patient']==\"Home Isolation\" and x['Symptomatic?']==\"No\"):\n",
        "      return Labels.recovered\n",
        "  return ABSTAIN\n",
        "\n",
        "\n",
        "# Labeling Function 6 ---> \n",
        "@labeling_function(pre=[create_dict], label=Labels.active)\n",
        "def lf_containment_zone(x,**kwargs):\n",
        "  if (x['Patient is from CZ (containment zone)'] == \"Yes\"):    \n",
        "      return Labels.active\n",
        "  return ABSTAIN\n",
        "\n",
        "\n",
        "# Labeling Function 7 ---> \n",
        "@labeling_function(pre=[create_dict], label=Labels.active)\n",
        "def lf_sealed_building(x,**kwargs):\n",
        "  if (x['Patient is from SB (sealed building)'] == \"Yes\"):    \n",
        "      return Labels.active\n",
        "  return ABSTAIN\n",
        "\n",
        "\n",
        "# Labeling Function 8 --->\n",
        "@labeling_function(pre=[create_dict], label=Labels.dead)\n",
        "def lf_commorbidities(x,**kwargs):\n",
        "  if (x['Comorbidity'] == \"Yes\"):    \n",
        "      return Labels.dead\n",
        "  return ABSTAIN\n",
        "\n",
        "\n",
        "# Labeling Function 9 --->\n",
        "@labeling_function(pre=[create_dict], label=Labels.dead)\n",
        "def lf_age(x,**kwargs):\n",
        "  if (x['Age']>60):    \n",
        "      return Labels.dead\n",
        "  return ABSTAIN\n",
        "\n",
        "\n",
        "# Labeling Function 10 --->\n",
        "@labeling_function(pre=[create_dict], label=Labels.active)\n",
        "def lf_symptomatic(x,**kwargs):\n",
        "  if (x['Symptomatic?'] == \"Yes\"):\n",
        "      return Labels.active\n",
        "  return ABSTAIN\n",
        "      \n",
        "\n",
        "# Labeling Function 11 --->  \n",
        "@labeling_function(pre=[create_dict], label=Labels.active)\n",
        "def lf_essential_service(x,**kwargs):\n",
        "  if (x['If Patient is from Essential services, Private or Public Servic'] == \"Private\"):\n",
        "      return Labels.active\n",
        "  return ABSTAIN\n",
        "\n",
        "\n",
        "# Labeling Function 12 --->\n",
        "@labeling_function(pre=[create_dict], label=Labels.active)\n",
        "def lf_type(x,**kwargs):\n",
        "  if (x['Patient Type (Index / Contact)'] == 'Index'):\n",
        "      return Labels.active\n",
        "  return ABSTAIN\n",
        "\n",
        "\n",
        "# Labeling Function 13 --->\n",
        "@labeling_function(pre=[create_dict], label=Labels.recovered)\n",
        "def lf_home_building(x,**kwargs):\n",
        "  if (x['Action on Patient']=='Home Isolation' and  x['Patient Location']=='Building'):\n",
        "    return Labels.recovered\n",
        "  return ABSTAIN\n",
        "\n",
        "\n",
        "# Labeling Function 14 --->\n",
        "@labeling_function(pre=[create_dict], label=Labels.active)\n",
        "def lf_occupation(x,**kwargs):\n",
        "  if (x['Occupation'] == 'Medical' or  x['Occupation']=='MP'):\n",
        "    return Labels.active\n",
        "  return ABSTAIN\n",
        "\n",
        "\n",
        "# Labeling Function 15 --->\n",
        "@labeling_function(pre=[create_dict], label=Labels.dead)\n",
        "def lf_disease(x,**kwargs):\n",
        "  if (re.search(Comorbidities, str(x['Select Comorbidities']), re.IGNORECASE)):\n",
        "      return Labels.dead\n",
        "  return ABSTAIN"
      ],
      "execution_count": null,
      "outputs": []
    },
    {
      "cell_type": "markdown",
      "metadata": {
        "id": "8kFIJErmsrBU"
      },
      "source": [
        "### LFs - without dictonary"
      ]
    },
    {
      "cell_type": "code",
      "metadata": {
        "id": "OhfT71EmLvzF"
      },
      "source": [
        "\n",
        "\n",
        "# #Labeling function 1\n",
        "# def lf_vaccinated(df):\n",
        "#   for i in range(0,len(df)):\n",
        "#     if (df.loc[i,'Is patient vaccinated'] == \"Yes\"):    \n",
        "#       return 1\n",
        "#     elif (df.loc[i,'Is patient vaccinated'] == \"No\"):    \n",
        "#       return 0\n",
        "\n",
        "# #Labeling function 2\n",
        "# def lf_containment_zone(df):\n",
        "#   for i in range(0,len(df)):\n",
        "#     if (df.loc[i,'Patient is from CZ (containment zone)'] == \"Yes\"):    \n",
        "#       return -1\n",
        "#     elif (df.loc[i,'Patient is from CZ (containment zone)'] == \"No\"):    \n",
        "#       return 0\n",
        "\n",
        "# #Labeling function 3\n",
        "# def lf_sealed_building(df):\n",
        "#   for i in range(0,len(df)):\n",
        "#     if (df.loc[i,'Patient is from SB (sealed building)'] == \"Yes\"):    \n",
        "#       return -1\n",
        "#     elif (df.loc[i,'Patient is from SB (sealed building)'] == \"No\"):    \n",
        "#       return 0\n",
        "\n",
        "# #Labeling function 4\n",
        "# def lf_commorbidities(df):\n",
        "#   for i in range(0,len(df)):\n",
        "#     if (df.loc[i,'Comorbidity'] == \"Yes\"):    \n",
        "#       return -1\n",
        "#     elif (df.loc[i,'Comorbidity'] == \"No\"):    \n",
        "#       return 0\n",
        "\n",
        "# #Labeling function 5\n",
        "# def lf_age(df):\n",
        "#   for i in range(0,len(df)):\n",
        "#     if (df.loc[i,'Age']>60 & df.loc[i,'Age']<80):    \n",
        "#       return -1\n",
        "#     elif (df.loc[i,'Age']<60):    \n",
        "#       return 0\n",
        "\n",
        "# #Labeling function 6\n",
        "# def lf_disease(df):\n",
        "#   for i in range(0,len(df)):\n",
        "#     if (re.search(Comorbidities, str((df.loc[i,'Select Comorbidities']), re.IGNORECASE):    \n",
        "#       return -1\n",
        "#     else:    \n",
        "#       return 0\n",
        "\n",
        "# #Labeling function 7\n",
        "# def lf_symptomatic(df):\n",
        "#   for i in range(0,len(df)):\n",
        "#     if (df.loc[i,'Symptomatic?']) == \"Yes\"):    \n",
        "#       return -1\n",
        "#     else:    \n",
        "#       return 0\n",
        "      \n",
        "\n",
        "# #Labeling function 8    ---   Not sure of this function, but I made this based on the analysis (Pie diagram)\n",
        "# def lf_essential_service(df):\n",
        "#   for i in range(0,len(df)):\n",
        "#     if (df.loc[i,'If Patient is from Essential services, Private or Public Servic']) == \"Private\"):    \n",
        "#       return -1\n",
        "#     else:    \n",
        "#       return 0\n",
        "\n",
        "\n",
        "# #Labeling function 9\n",
        "# def lf_slum-chawl(df):\n",
        "#   for i in range(0,len(df)):\n",
        "#     if (df.loc[i,'Patient Location']) == \"Slum / Chawl\"):    \n",
        "#       return -1\n",
        "#     else:    \n",
        "#       return 0\n",
        "\n",
        "# #Labeling function 10\n",
        "# def lf_type(df):\n",
        "#   for i in range(0,len(df)):\n",
        "#     if (df.loc[i,'Patient Type (Index / Contact)']) == \"Index\"):    \n",
        "#       return -1\n",
        "#     else:    \n",
        "#       return 0"
      ],
      "execution_count": null,
      "outputs": []
    },
    {
      "cell_type": "markdown",
      "metadata": {
        "id": "wwD61CIHYfeq"
      },
      "source": [
        "## LFset"
      ]
    },
    {
      "cell_type": "code",
      "metadata": {
        "id": "PlBMNYC4bkdk"
      },
      "source": [
        "col_names=list(df_new.columns)\n",
        "col_names"
      ],
      "execution_count": null,
      "outputs": []
    },
    {
      "cell_type": "code",
      "metadata": {
        "id": "tJWA3KsrEnF-"
      },
      "source": [
        "X=df_new.to_numpy()\n",
        "Y=df_new['Patient Status'].to_numpy()"
      ],
      "execution_count": null,
      "outputs": []
    },
    {
      "cell_type": "code",
      "metadata": {
        "id": "xNcafEn5EvDS"
      },
      "source": [
        "from spear.labeling import LFSet\n",
        "\n",
        "LFS = [lf_vaccinated, lf_old_symptomatic, lf_symptomatic_cz_sb, lf_slum_or_chawl_commorbidities, lf_home_isolated, lf_containment_zone, lf_sealed_building, lf_commorbidities, lf_age, lf_symptomatic, lf_essential_service, lf_type, lf_home_building, lf_occupation, lf_disease]\n",
        "\n",
        "rules = LFSet(\"SWARD_LFS\")\n",
        "rules.add_lf_list(LFS)"
      ],
      "execution_count": null,
      "outputs": []
    },
    {
      "cell_type": "code",
      "metadata": {
        "id": "PKIDYU3JBBBW"
      },
      "source": [
        "from spear.labeling import PreLabels\n",
        "\n",
        "sward_noisy_labels = PreLabels(name=\"sward\",\n",
        "                               data=X,\n",
        "                               rules=rules,\n",
        "                               labels_enum=Labels,\n",
        "                               num_classes=3)"
      ],
      "execution_count": null,
      "outputs": []
    },
    {
      "cell_type": "code",
      "metadata": {
        "id": "GzLQE0P_Ba2e"
      },
      "source": [
        "sward_noisy_labels.generate_pickle(\"prelabels.pkl\")"
      ],
      "execution_count": null,
      "outputs": []
    },
    {
      "cell_type": "code",
      "metadata": {
        "id": "NHRV1IM3bJpF"
      },
      "source": [
        "sward_noisy_labels.generate_json('sward_json.json') #JSON"
      ],
      "execution_count": null,
      "outputs": []
    },
    {
      "cell_type": "markdown",
      "metadata": {
        "id": "pU4sPocqyP_q"
      },
      "source": [
        "#**CAGE**"
      ]
    },
    {
      "cell_type": "markdown",
      "metadata": {
        "id": "7C3JdHgQyboE"
      },
      "source": [
        "## Utility Function"
      ]
    },
    {
      "cell_type": "code",
      "metadata": {
        "id": "4zzZPaRx5VrO"
      },
      "source": [
        "def get_test_U_data(X, Y, temp_len, test_size = 200, U_size = None):\n",
        "    if U_size == None:\n",
        "        U_size = len(X) - test_size\n",
        "    index = np.arange(len(X))\n",
        "    index = np.random.permutation(index)\n",
        "    X = X[index]\n",
        "\n",
        "    True_Labels = []\n",
        "    \n",
        "    for y in Y:\n",
        "      if(y==\"Recovered\"):\n",
        "        label=1\n",
        "      elif(y==\"Dead\"):\n",
        "        label=-1\n",
        "      elif(y==\"Active\"):\n",
        "        label=0\n",
        "      True_Labels.append(label)\n",
        "    \n",
        "    Y = np.array(True_Labels)\n",
        "    Y = Y[index]\n",
        "    \n",
        "    print(Y)\n",
        "\n",
        "    X_T = X[-(test_size):]\n",
        "    Y_T = Y[-(test_size):]\n",
        "    R_T = np.zeros((test_size,temp_len))\n",
        "\n",
        "    # X_U = X[:-(validation_size+test_size+L_size)]\n",
        "    X_U = X[:U_size]\n",
        "    # Y_U = Y[:-(validation_size+test_size+L_size)]\n",
        "    R_U = np.zeros((U_size,temp_len))\n",
        "\n",
        "    return X_T,Y_T,R_T, X_U,R_U"
      ],
      "execution_count": null,
      "outputs": []
    },
    {
      "cell_type": "markdown",
      "metadata": {
        "id": "blWuU6rty714"
      },
      "source": [
        "## Creating the unlabelled data and testing data"
      ]
    },
    {
      "cell_type": "code",
      "metadata": {
        "id": "yYn8laVO43-I"
      },
      "source": [
        "test_size = 7000     # Size of Testing Data\n",
        "U_size = 25000     # Size of unlabelled data\n",
        "n_lfs = len(rules.get_lfs())    # Number of Labelling functions\n",
        "\n",
        "X_T, Y_T, _, X_U, _= get_test_U_data(X, Y, n_lfs, test_size, U_size)\n",
        "\n",
        "#print(X_T)    # Testing Data\n",
        "print(\"Size of Testing Data:\", len(X_T))   # Size of Testing Data\n",
        "print(\"\\n\")\n",
        "\n",
        "#print(Y_T)    # True Labels\n",
        "print(\"Size of True Labels:\", len(Y_T))   # Size of True Labels\n",
        "print(\"\\n\")\n",
        "\n",
        "#print(X_U)     # Unlabelled Data\n",
        "print(\"Size of Unlabelled Data:\", len(X_U))     # Size of Unlabelled Data"
      ],
      "execution_count": null,
      "outputs": []
    },
    {
      "cell_type": "code",
      "metadata": {
        "id": "b7-MoBnOBby-"
      },
      "source": [
        "path_json = '/content/gdrive/MyDrive/IITB - INTERNSHIP/Sward/CAGE/Data/sward_json.json'\n",
        "T_path_pkl = '/content/gdrive/MyDrive/IITB - INTERNSHIP/Sward/CAGE/Data/sward_pickle_T.pkl' #test data - have true labels\n",
        "U_path_pkl = '/content/gdrive/MyDrive/IITB - INTERNSHIP/Sward/CAGE/Data/sward_pickle_U.pkl' #unlabelled data - don't have true labels\n",
        "\n",
        "log_path_cage_1 = '/content/gdrive/MyDrive/IITB - INTERNSHIP/Sward/Log/sward_log_1.txt' #cage is an algorithm, can be found below\n",
        "params_path = '/content/gdrive/MyDrive/IITB - INTERNSHIP/Sward/Params/sward_params.pkl' #file path to store parameters of Cage, used below"
      ],
      "execution_count": null,
      "outputs": []
    },
    {
      "cell_type": "code",
      "metadata": {
        "id": "pZRTRuBCKA_o"
      },
      "source": [
        "from spear.labeling import PreLabels\n",
        "\n",
        "sward_noisy_labels = PreLabels(name=\"sward\",\n",
        "                               data=X_T,\n",
        "                               gold_labels=Y_T,\n",
        "                               rules=rules,\n",
        "                               labels_enum=Labels,\n",
        "                               num_classes=3)\n",
        "sward_noisy_labels.generate_pickle(T_path_pkl)\n",
        "\n",
        "sward_noisy_labels.generate_json(path_json) #generating json files once is enough\n",
        "\n",
        "sward_noisy_labels = PreLabels(name=\"sward\",\n",
        "                               data=X_U,\n",
        "                               rules=rules,\n",
        "                               labels_enum=Labels,\n",
        "                               num_classes=3) #note that we don't pass gold_labels here, for the unlabelled data\n",
        "\n",
        "sward_noisy_labels.generate_pickle(U_path_pkl)"
      ],
      "execution_count": null,
      "outputs": []
    },
    {
      "cell_type": "markdown",
      "metadata": {
        "id": "uiOJkWBQGpaV"
      },
      "source": [
        "## Accessing Labeled Data"
      ]
    },
    {
      "cell_type": "code",
      "metadata": {
        "id": "Bs-y9EERGxtA"
      },
      "source": [
        "from spear.utils import get_data, get_classes\n",
        "\n",
        "data_U = get_data(path = U_path_pkl, check_shapes=True)\n",
        "#check_shapes being True(above), asserts for relative shapes of arrays in pickle file\n",
        "print(\"Number of elements in data list: \", len(data_U))\n",
        "print(\"Shape of feature matrix: \", data_U[0].shape)\n",
        "print(\"Shape of labels matrix: \", data_U[1].shape)\n",
        "print(\"Shape of continuous scores matrix : \", data_U[6].shape)\n",
        "print(\"Total number of classes: \", data_U[9])\n",
        "\n",
        "classes = get_classes(path = path_json)\n",
        "print(\"Classes dictionary in json file(modified to have integer keys): \", classes)"
      ],
      "execution_count": null,
      "outputs": []
    },
    {
      "cell_type": "markdown",
      "metadata": {
        "id": "jZi9tEVBfQ-1"
      },
      "source": [
        "## Cage Algorithm"
      ]
    },
    {
      "cell_type": "code",
      "metadata": {
        "id": "xuNZIeNwHdof"
      },
      "source": [
        "from spear.cage import Cage\n",
        "\n",
        "cage = Cage(path_json = path_json, n_lfs = n_lfs)"
      ],
      "execution_count": null,
      "outputs": []
    },
    {
      "cell_type": "code",
      "metadata": {
        "id": "7zTG4TKTHljz"
      },
      "source": [
        "\n",
        "cage = Cage(path_json = path_json, n_lfs = n_lfs)\n",
        "\n",
        "probs = cage.fit_and_predict_proba(path_pkl = U_path_pkl, path_test = T_path_pkl, path_log = log_path_cage_1, \\\n",
        "                                   qt = 0.9, qc = 0.85, metric_avg = ['micro'], n_epochs = 200, lr = 0.001)\n",
        "labels = np.argmax(probs, 1)\n",
        "print(\"probs shape: \", probs.shape)\n",
        "print(\"labels shape: \",labels.shape)"
      ],
      "execution_count": null,
      "outputs": []
    },
    {
      "cell_type": "code",
      "metadata": {
        "id": "Vc6urecnJAqs"
      },
      "source": [
        "cage = Cage(path_json = path_json, n_lfs = n_lfs)\n",
        "\n",
        "labels = cage.fit_and_predict(path_pkl = U_path_pkl, path_test = T_path_pkl, path_log = log_path_cage_1, \\\n",
        "                              qt = 0.9, qc = 0.85, metric_avg = ['micro'], n_epochs = 200, lr = 0.01, \\\n",
        "                              need_strings = False)\n",
        "\n",
        "print(\"labels shape: \", labels.shape)\n",
        "print(type(labels[0]))"
      ],
      "execution_count": null,
      "outputs": []
    },
    {
      "cell_type": "code",
      "metadata": {
        "id": "IvNOmFuOJxnU"
      },
      "source": [
        "cage = Cage(path_json = path_json, n_lfs = n_lfs)\n",
        "\n",
        "labels_strings = cage.fit_and_predict(path_pkl = U_path_pkl, path_test = T_path_pkl, path_log = log_path_cage_1, \\\n",
        "                              qt = 0.9, qc = 0.85, metric_avg = ['micro'], n_epochs = 200, lr = 0.01, \\\n",
        "                              need_strings = True)\n",
        "\n",
        "print(\"labels_strings shape: \", labels_strings.shape)\n",
        "print(type(labels_strings[0]))"
      ],
      "execution_count": null,
      "outputs": []
    },
    {
      "cell_type": "markdown",
      "metadata": {
        "id": "1omTDFvOLSeF"
      },
      "source": [
        "## Saving Parameters"
      ]
    },
    {
      "cell_type": "code",
      "metadata": {
        "id": "P176s2pDLV1R"
      },
      "source": [
        "cage.save_params(save_path = params_path)"
      ],
      "execution_count": null,
      "outputs": []
    },
    {
      "cell_type": "markdown",
      "metadata": {
        "id": "wtyrJop3LeKM"
      },
      "source": [
        "## Load Parameters"
      ]
    },
    {
      "cell_type": "code",
      "metadata": {
        "id": "XOB6dfG0LhBw"
      },
      "source": [
        "cage_2 = Cage(path_json = path_json, n_lfs = n_lfs)\n",
        "cage_2.load_params(load_path = params_path)"
      ],
      "execution_count": null,
      "outputs": []
    },
    {
      "cell_type": "markdown",
      "metadata": {
        "id": "7oftbd4vLz63"
      },
      "source": [
        "## Predict_proba function of Cage class"
      ]
    },
    {
      "cell_type": "code",
      "metadata": {
        "id": "Y6XWnnpcL7Gp"
      },
      "source": [
        "probs_test = cage_2.predict_proba(path_test = T_path_pkl, qc = 0.85) \n",
        "print(\"probs_test shape: \",probs_test.shape)"
      ],
      "execution_count": null,
      "outputs": []
    },
    {
      "cell_type": "markdown",
      "metadata": {
        "id": "fKbYskFeMJWO"
      },
      "source": [
        "## Predict function of Cage class"
      ]
    },
    {
      "cell_type": "code",
      "metadata": {
        "id": "uRFBo7CkMOGD"
      },
      "source": [
        "labels_test = cage_2.predict(path_test = T_path_pkl, qc = 0.85, need_strings = False)\n",
        "print(\"labels_test shape: \", labels_test.shape)\n",
        "\n",
        "from sklearn.metrics import accuracy_score, f1_score\n",
        "\n",
        "#Y_T is true labels of test data, type is numpy array of shape (num_instances,)\n",
        "print(\"accuracy_score: \", accuracy_score(Y_T, labels_test))\n",
        "print(\"f1_score: \", f1_score(Y_T, labels_test, average = 'micro'))"
      ],
      "execution_count": null,
      "outputs": []
    }
  ]
}